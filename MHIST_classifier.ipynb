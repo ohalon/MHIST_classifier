{
 "cells": [
  {
   "cell_type": "code",
   "execution_count": null,
   "id": "da7feab3",
   "metadata": {},
   "outputs": [],
   "source": [
    "import torch\n",
    "import torch.nn as nn\n",
    "import torchvision\n",
    "from torchvision.transforms import ToTensor\n",
    "from torchvision.datasets import ImageFolder\n",
    "from torchvision import transforms\n",
    "from collections import Counter\n",
    "from torchmetrics import AUROC\n",
    "from statistics import mean, stdev"
   ]
  },
  {
   "cell_type": "code",
   "execution_count": null,
   "id": "eca2729a",
   "metadata": {},
   "outputs": [],
   "source": [
    "transforms = transforms.Compose(\n",
    "    [transforms.ToTensor(),\n",
    "    transforms.Normalize((0.5,), (0.5,)),\n",
    "    torchvision.transforms.ColorJitter(hue=.05, saturation=.05, brightness = .05),\n",
    "    torchvision.transforms.RandomHorizontalFlip(p = 0.5),\n",
    "    torchvision.transforms.RandomVerticalFlip(p = 0.5),\n",
    "    torchvision.transforms.RandomRotation(degrees = (0, 180)),\n",
    "    ])"
   ]
  },
  {
   "cell_type": "code",
   "execution_count": null,
   "id": "f12c762d",
   "metadata": {},
   "outputs": [],
   "source": [
    "train_data = torchvision.datasets.ImageFolder(root = '/mnt/d/MHIST/train', transform = transforms )\n",
    "test_data = torchvision.datasets.ImageFolder(root = '/mnt/d/MHIST/test', transform = transforms)"
   ]
  },
  {
   "cell_type": "code",
   "execution_count": null,
   "id": "b4ee21c3",
   "metadata": {},
   "outputs": [],
   "source": [
    "train_size = int(0.9 * len(train_data))\n",
    "val_size = len(train_data) - train_size"
   ]
  },
  {
   "cell_type": "code",
   "execution_count": null,
   "id": "871bdd22",
   "metadata": {},
   "outputs": [],
   "source": [
    "train_dataset, val_dataset = torch.utils.data.random_split(train_data, [train_size, val_size])"
   ]
  },
  {
   "cell_type": "code",
   "execution_count": null,
   "id": "e4e60c80",
   "metadata": {},
   "outputs": [],
   "source": [
    "train_dataset.dataset.class_to_idx\n",
    "print(dict(Counter(train_dataset.dataset.targets)))"
   ]
  },
  {
   "cell_type": "code",
   "execution_count": null,
   "id": "eea6a127",
   "metadata": {},
   "outputs": [],
   "source": [
    "batch_size = 32"
   ]
  },
  {
   "cell_type": "code",
   "execution_count": null,
   "id": "bf407203",
   "metadata": {},
   "outputs": [],
   "source": [
    "train_loader = torch.utils.data.DataLoader(train_dataset, batch_size= batch_size, shuffle = True)\n",
    "val_loader = torch.utils.data.DataLoader(val_dataset, batch_size= batch_size)\n",
    "test_loader = torch.utils.data.DataLoader(test_data, batch_size= batch_size)"
   ]
  },
  {
   "cell_type": "code",
   "execution_count": null,
   "id": "277c17bd",
   "metadata": {},
   "outputs": [],
   "source": [
    "model = torchvision.models.resnet18(pretrained = True)\n",
    "model.fc = nn.Sequential(nn.Linear(512,2))\n",
    "model = model.to(device = 'cuda')"
   ]
  },
  {
   "cell_type": "code",
   "execution_count": null,
   "id": "fdd27ae6",
   "metadata": {},
   "outputs": [],
   "source": [
    "loss = torch.nn.CrossEntropyLoss()"
   ]
  },
  {
   "cell_type": "code",
   "execution_count": null,
   "id": "9ea5e1e6",
   "metadata": {},
   "outputs": [],
   "source": [
    "def train(num_epochs):\n",
    "    best_accuracy = 0.0\n",
    "    \n",
    "    print(\"Starting training...\")\n",
    "    \n",
    "    for epoch in range(1, num_epochs + 1):\n",
    "        running_train_loss = 0.0 \n",
    "        running_accuracy = 0.0 \n",
    "        running_val_loss = 0.0 \n",
    "        total = 0.0        \n",
    "        # Training loop\n",
    "        \n",
    "        train_auroc = AUROC(pos_label = 1, num_classes = 2)\n",
    "        val_auroc = AUROC(pos_label = 1, num_classes = 2)\n",
    "        \n",
    "        for data in train_loader:\n",
    "            inputs, outputs = data\n",
    "            inputs = inputs.to(device = 'cuda')\n",
    "            outputs = outputs.to(device = 'cuda')\n",
    "            optimizer.zero_grad()             \n",
    "            predicted_outputs = model(inputs)   \n",
    "            train_loss = loss(predicted_outputs, outputs)   \n",
    "            train_loss.backward()   \n",
    "            optimizer.step()        \n",
    "            running_train_loss +=train_loss.item()\n",
    "            train_auroc_batch = train_auroc(predicted_outputs, outputs)\n",
    "                        \n",
    "        # Calculate training loss value \n",
    "        train_loss_value = running_train_loss/len(train_loader) \n",
    "        avg_train_auroc = train_auroc.compute()\n",
    "        \n",
    "        # Validation Loop \n",
    "        with torch.no_grad(): \n",
    "            model.eval()\n",
    "            for data in val_loader:\n",
    "                inputs, outputs = data\n",
    "                inputs = inputs.to(device = 'cuda')\n",
    "                outputs = outputs.to(device = 'cuda')\n",
    "                predicted_outputs = model(inputs)\n",
    "                val_loss = loss(predicted_outputs, outputs)\n",
    "                \n",
    "                _, predicted = torch.max(predicted_outputs, 1)\n",
    "                running_val_loss += val_loss.item()\n",
    "                total += outputs.size(0)\n",
    "                running_accuracy += (predicted == outputs).sum().item()\n",
    "                val_auroc_batch = val_auroc(predicted_outputs, outputs)\n",
    "         \n",
    "                \n",
    "        # Calculate validation loss value \n",
    "        val_loss_value = running_val_loss/len(val_loader) \n",
    "        avg_val_auroc = val_auroc.compute()        \n",
    "        # Calculate accuracy as the number of correct pred\n",
    "        accuracy = (100 * running_accuracy / total)     \n",
    "        \n",
    "        print('EPOCH', epoch,\n",
    "              'Training Loss: %.4f' %train_loss_value, \n",
    "              'Train AUROC: %.4f' %avg_train_auroc,\n",
    "              'Validation Loss: %.4f' %val_loss_value,\n",
    "              'Validation AUROC: %.4f' %avg_val_auroc,\n",
    "              'Accuracy %d %%' % (accuracy))\n",
    "        train_auroc.reset()\n",
    "        val_auroc.reset()"
   ]
  },
  {
   "cell_type": "code",
   "execution_count": null,
   "id": "76f42d96",
   "metadata": {},
   "outputs": [],
   "source": [
    "def test(model):\n",
    "    test_auroc = AUROC(pos_label = 1, num_classes = 2)\n",
    "    with torch.no_grad():\n",
    "        model.eval()\n",
    "        for data in test_loader:\n",
    "            inputs, outputs = data\n",
    "            inputs = inputs.to(device = 'cuda')\n",
    "            outputs = outputs.to(device = 'cuda')\n",
    "            predicted_outputs = model(inputs)\n",
    "            _, predicted = torch.max(predicted_outputs, 1)\n",
    "            test_auroc_batch = test_auroc(predicted_outputs, outputs)\n",
    "    \n",
    "    avg_test_auroc = test_auroc.compute()\n",
    "    return avg_test_auroc"
   ]
  },
  {
   "cell_type": "code",
   "execution_count": null,
   "id": "e65e28f8",
   "metadata": {},
   "outputs": [],
   "source": [
    "results = []\n",
    "\n",
    "for i in range(9):\n",
    "    \n",
    "    seed = i\n",
    "    torch.manual_seed(seed)\n",
    "    \n",
    "    model = torchvision.models.resnet18(pretrained = True)\n",
    "    model.fc = nn.Sequential(nn.Linear(512,2))\n",
    "    model = model.to(device = 'cuda')\n",
    "    \n",
    "    optimizer = torch.optim.SGD(model.parameters(), lr = 0.001, momentum = 0.9, weight_decay = 0.01)\n",
    "    train(30)\n",
    "    \n",
    "    optimizer = torch.optim.SGD(model.parameters(), lr = 0.0001, momentum = 0.9, weight_decay = 0.01)\n",
    "    train(10)\n",
    "    \n",
    "    optimizer = torch.optim.SGD(model.parameters(), lr = 0.00001, momentum = 0.7, weight_decay = 0.01)\n",
    "    train(10)\n",
    "    \n",
    "    results.append(test(model))"
   ]
  },
  {
   "cell_type": "code",
   "execution_count": null,
   "id": "58510c36",
   "metadata": {},
   "outputs": [],
   "source": [
    "results = [result.item() for result in results] "
   ]
  },
  {
   "cell_type": "code",
   "execution_count": null,
   "id": "ee430ec4",
   "metadata": {},
   "outputs": [],
   "source": [
    "print('Mean:',\"{:.3f}\".format(mean(results)*100),'\\nStandard deviation:', \"{:.3f}\".format(stdev(results)*100))"
   ]
  },
  {
   "cell_type": "code",
   "execution_count": null,
   "id": "180cf35f",
   "metadata": {},
   "outputs": [],
   "source": []
  }
 ],
 "metadata": {
  "kernelspec": {
   "display_name": "Python 3 (ipykernel)",
   "language": "python",
   "name": "python3"
  },
  "language_info": {
   "codemirror_mode": {
    "name": "ipython",
    "version": 3
   },
   "file_extension": ".py",
   "mimetype": "text/x-python",
   "name": "python",
   "nbconvert_exporter": "python",
   "pygments_lexer": "ipython3",
   "version": "3.9.7"
  }
 },
 "nbformat": 4,
 "nbformat_minor": 5
}
